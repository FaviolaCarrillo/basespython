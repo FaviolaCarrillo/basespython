{
 "cells": [
  {
   "cell_type": "code",
   "execution_count": 1,
   "metadata": {},
   "outputs": [
    {
     "name": "stdout",
     "output_type": "stream",
     "text": [
      "hola explorers!\n"
     ]
    }
   ],
   "source": [
    "print('hola a todos!')"
   ]
  },
  {
   "cell_type": "code",
   "execution_count": 2,
   "metadata": {},
   "outputs": [
    {
     "name": "stdout",
     "output_type": "stream",
     "text": [
      "Hola a todos!\n"
     ]
    }
   ],
   "source": [
    "#Hola con una variable\n",
    "msg = 'Hola a todos!'\n",
    "print(msg)"
   ]
  },
  {
   "cell_type": "markdown",
   "metadata": {},
   "source": [
    "## Programando Hotcakes"
   ]
  },
  {
   "cell_type": "code",
   "execution_count": 4,
   "metadata": {},
   "outputs": [],
   "source": [
    "titulo = 'Programando hotcakes'\n",
    "\n",
    "huevo = 3\n",
    "leche = 1.5\n",
    "mantequilla = 0.045\n",
    "harina = 3\n",
    "cditaVainilla = 0.015\n",
    "\n",
    "# Asignamos los espacios en la memoria del programa para nuestros ingredientes\n"
   ]
  },
  {
   "cell_type": "code",
   "execution_count": 5,
   "metadata": {},
   "outputs": [
    {
     "name": "stdout",
     "output_type": "stream",
     "text": [
      "1.5\n"
     ]
    }
   ],
   "source": [
    "print(leche)"
   ]
  },
  {
   "cell_type": "code",
   "execution_count": 6,
   "metadata": {},
   "outputs": [
    {
     "name": "stdout",
     "output_type": "stream",
     "text": [
      "cantidad de leche 1.5 tazas\n"
     ]
    }
   ],
   "source": [
    "print('cantidad de leche ' + str(leche) + ' tazas')"
   ]
  },
  {
   "cell_type": "code",
   "execution_count": 12,
   "metadata": {},
   "outputs": [
    {
     "name": "stdout",
     "output_type": "stream",
     "text": [
      "cantidad de harina 3 tazas cantidad de leche 1.5 tazas\n"
     ]
    }
   ],
   "source": [
    "print('cantidad de harina ' + str(harina) + ' tazas' + ' cantidad de leche ' + str(leche) + ' tazas')"
   ]
  },
  {
   "cell_type": "code",
   "execution_count": 10,
   "metadata": {},
   "outputs": [
    {
     "name": "stdout",
     "output_type": "stream",
     "text": [
      "cantidad de harina 3 tazas\n",
      "cantidad de leche 1.5 tazas\n"
     ]
    }
   ],
   "source": [
    "print('cantidad de harina ' + str(harina) + ' tazas' + '\\ncantidad de leche ' + str(leche) + ' tazas')"
   ]
  },
  {
   "cell_type": "code",
   "execution_count": 13,
   "metadata": {},
   "outputs": [
    {
     "name": "stdout",
     "output_type": "stream",
     "text": [
      "7.56\n"
     ]
    }
   ],
   "source": [
    "#Mezclamos los ingredientes\n",
    "mezcla = huevo + leche + mantequilla + harina + cditaVainilla\n",
    "print(mezcla)\n"
   ]
  },
  {
   "cell_type": "code",
   "execution_count": 21,
   "metadata": {},
   "outputs": [
    {
     "name": "stdout",
     "output_type": "stream",
     "text": [
      "Revisa tus ingredientes\n"
     ]
    }
   ],
   "source": [
    "# Reglas - Condiciones\n",
    "\n",
    "# huevo = 3\n",
    "# leche = 1.5\n",
    "# mantequilla = 0.045\n",
    "# harina = 3\n",
    "# cditaVainilla = 0.015\n",
    "\n",
    "if (huevo == 33):\n",
    "  print('La cantidad de huevo es correcta')\n",
    "elif (leche == 1.7):\n",
    "  print('La cantidad de leche es correcta')\n",
    "elif (mantequilla == 0.1045):\n",
    "  print('La cantidad de mantequilla es correcta')\n",
    "else: \n",
    "  print('Revisa tus ingredientes')\n"
   ]
  },
  {
   "cell_type": "code",
   "execution_count": 23,
   "metadata": {},
   "outputs": [
    {
     "name": "stdout",
     "output_type": "stream",
     "text": [
      "La mezcla alcanzo para 2.52 hot cakes por persona\n"
     ]
    }
   ],
   "source": [
    "# Repartirlos \n",
    "\n",
    "porcion = mezcla / 3\n",
    "print('La mezcla alcanzo para ' +str(porcion) + ' hot cakes por persona')"
   ]
  },
  {
   "attachments": {},
   "cell_type": "markdown",
   "metadata": {},
   "source": [
    "## Cadenas\n",
    "\n",
    "Serie de caracteres entre comillas dobles o simples"
   ]
  },
  {
   "cell_type": "code",
   "execution_count": 5,
   "metadata": {},
   "outputs": [
    {
     "name": "stdout",
     "output_type": "stream",
     "text": [
      "Ada Lovelace\n"
     ]
    }
   ],
   "source": [
    "#String\n",
    "name = 'Ada Lovelace'\n",
    "print(name.title())"
   ]
  },
  {
   "cell_type": "code",
   "execution_count": 6,
   "metadata": {},
   "outputs": [
    {
     "name": "stdout",
     "output_type": "stream",
     "text": [
      "ADA LOVELACE\n"
     ]
    }
   ],
   "source": [
    "print(name.upper())"
   ]
  },
  {
   "cell_type": "code",
   "execution_count": 7,
   "metadata": {},
   "outputs": [
    {
     "name": "stdout",
     "output_type": "stream",
     "text": [
      "ada lovelace\n"
     ]
    }
   ],
   "source": [
    "print(name.lower())"
   ]
  },
  {
   "cell_type": "code",
   "execution_count": 9,
   "metadata": {},
   "outputs": [
    {
     "name": "stdout",
     "output_type": "stream",
     "text": [
      "False\n",
      "Ada Lovelace\n"
     ]
    }
   ],
   "source": [
    "print(name.islower())\n",
    "print(name)"
   ]
  },
  {
   "cell_type": "code",
   "execution_count": 10,
   "metadata": {},
   "outputs": [
    {
     "name": "stdout",
     "output_type": "stream",
     "text": [
      "True\n",
      "ada lovelace\n"
     ]
    }
   ],
   "source": [
    "# si se busca un valor distinto se pueden reasignar las variables con otro valores, antes de pasar la condicion\n",
    "name = name.lower()\n",
    "print(name.islower())\n",
    "print(name)\n"
   ]
  },
  {
   "cell_type": "code",
   "execution_count": 14,
   "metadata": {},
   "outputs": [
    {
     "name": "stdout",
     "output_type": "stream",
     "text": [
      "ada                        lovelace      \n"
     ]
    }
   ],
   "source": [
    "first_name = 'ada'\n",
    "last_name = '                       lovelace      '\n",
    "full_name = first_name + ' ' + last_name\n",
    "print(full_name)"
   ]
  },
  {
   "cell_type": "code",
   "execution_count": 15,
   "metadata": {},
   "outputs": [
    {
     "name": "stdout",
     "output_type": "stream",
     "text": [
      "lovelace\n"
     ]
    }
   ],
   "source": [
    "#Quitar todos los espacios\n",
    "print(last_name.strip())"
   ]
  },
  {
   "cell_type": "code",
   "execution_count": 16,
   "metadata": {},
   "outputs": [
    {
     "name": "stdout",
     "output_type": "stream",
     "text": [
      "                       lovelace\n"
     ]
    }
   ],
   "source": [
    "#Quitar espacios a la derecha\n",
    "print(last_name.rstrip())"
   ]
  },
  {
   "cell_type": "code",
   "execution_count": 17,
   "metadata": {},
   "outputs": [
    {
     "name": "stdout",
     "output_type": "stream",
     "text": [
      "lovelace      \n"
     ]
    }
   ],
   "source": [
    "#Quitar espacios a la izquierda\n",
    "print(last_name.lstrip())"
   ]
  },
  {
   "cell_type": "code",
   "execution_count": 18,
   "metadata": {},
   "outputs": [
    {
     "name": "stdout",
     "output_type": "stream",
     "text": [
      "Juan Lopez\n"
     ]
    }
   ],
   "source": [
    "# Usando variables en cadenas\n",
    "\n",
    "nombre = 'Juan'\n",
    "apellido = 'Lopez'\n",
    "nombre_completo =f'{nombre} {apellido}'\n",
    "print(nombre_completo)"
   ]
  },
  {
   "cell_type": "code",
   "execution_count": 60,
   "metadata": {},
   "outputs": [],
   "source": [
    "## Listas\n",
    "\n",
    "#Almacena una serie de elementos en un orden especifico\n",
    "\n",
    "ingredientes = ['harina', 'huevos', 'mantequilla']"
   ]
  },
  {
   "cell_type": "code",
   "execution_count": 61,
   "metadata": {},
   "outputs": [
    {
     "data": {
      "text/plain": [
       "'harina'"
      ]
     },
     "execution_count": 61,
     "metadata": {},
     "output_type": "execute_result"
    }
   ],
   "source": [
    "# Primer elemento de la lista\n",
    "ingredientes[0]"
   ]
  },
  {
   "cell_type": "code",
   "execution_count": 62,
   "metadata": {},
   "outputs": [
    {
     "data": {
      "text/plain": [
       "'mantequilla'"
      ]
     },
     "execution_count": 62,
     "metadata": {},
     "output_type": "execute_result"
    }
   ],
   "source": [
    "# Ultimo elemento de la lista\n",
    "ingredientes[-1]"
   ]
  },
  {
   "cell_type": "code",
   "execution_count": 63,
   "metadata": {},
   "outputs": [
    {
     "name": "stdout",
     "output_type": "stream",
     "text": [
      "['harina', 'huevos', 'mantequilla', 'leche']\n"
     ]
    }
   ],
   "source": [
    "# Agregar un elemento a la lista\n",
    "ingredientes.append('leche')\n",
    "print(ingredientes)"
   ]
  },
  {
   "cell_type": "code",
   "execution_count": 64,
   "metadata": {},
   "outputs": [
    {
     "name": "stdout",
     "output_type": "stream",
     "text": [
      "['harina', 'huevos', 'mantequilla', 'vainilla', 'leche']\n"
     ]
    }
   ],
   "source": [
    "# Agregar un elemento a la lista en una posicion especifica\n",
    "ingredientes.insert(3, 'vainilla')\n",
    "print(ingredientes)"
   ]
  },
  {
   "cell_type": "code",
   "execution_count": 65,
   "metadata": {},
   "outputs": [
    {
     "name": "stdout",
     "output_type": "stream",
     "text": [
      "['harina', 'huevos', 'mantequilla', 'vainilla']\n"
     ]
    }
   ],
   "source": [
    "# Quitando un elemento de la lista, se elimina el ultimo elemento de la lista\n",
    "del ingredientes[4]\n",
    "print(ingredientes)"
   ]
  },
  {
   "cell_type": "code",
   "execution_count": 66,
   "metadata": {},
   "outputs": [
    {
     "name": "stdout",
     "output_type": "stream",
     "text": [
      "['harina', 'huevos', 'mantequilla']\n"
     ]
    }
   ],
   "source": [
    "# Si no se le indica la posicion, se elimina el ultimo elemento de la lista\n",
    "ingredientes.pop()\n",
    "print(ingredientes)"
   ]
  },
  {
   "cell_type": "code",
   "execution_count": 67,
   "metadata": {},
   "outputs": [
    {
     "name": "stdout",
     "output_type": "stream",
     "text": [
      "['huevos', 'mantequilla']\n"
     ]
    }
   ],
   "source": [
    "ingredientes.remove('harina')\n",
    "print(ingredientes)\n"
   ]
  },
  {
   "cell_type": "code",
   "execution_count": 70,
   "metadata": {},
   "outputs": [
    {
     "data": {
      "text/plain": [
       "2"
      ]
     },
     "execution_count": 70,
     "metadata": {},
     "output_type": "execute_result"
    }
   ],
   "source": [
    "# Longitud de la lista\n",
    "len(ingredientes)\n"
   ]
  },
  {
   "cell_type": "code",
   "execution_count": 71,
   "metadata": {},
   "outputs": [
    {
     "name": "stdout",
     "output_type": "stream",
     "text": [
      "['cocoa', 'huevos', 'mantequilla']\n"
     ]
    }
   ],
   "source": [
    "ingredientes.insert(0, 'cocoa')\n",
    "print(ingredientes)"
   ]
  },
  {
   "cell_type": "code",
   "execution_count": 72,
   "metadata": {},
   "outputs": [
    {
     "name": "stdout",
     "output_type": "stream",
     "text": [
      "['cocoa', 'huevos']\n"
     ]
    }
   ],
   "source": [
    "# Slicing\n",
    "primeros_dos = ingredientes[:2]\n",
    "print(primeros_dos)"
   ]
  },
  {
   "cell_type": "code",
   "execution_count": 75,
   "metadata": {},
   "outputs": [
    {
     "name": "stdout",
     "output_type": "stream",
     "text": [
      "['cocoa', 'huevos', 'mantequilla']\n"
     ]
    }
   ],
   "source": [
    "# Copiar una lista \n",
    "copy_list = ingredientes[:]\n",
    "print(copy_list)"
   ]
  },
  {
   "attachments": {},
   "cell_type": "markdown",
   "metadata": {},
   "source": [
    "## Tuplas\n",
    "Son similares a las listas [van entre conchetes], pero no se pueden modificar los elementos de la tupla (van entre parentesis)"
   ]
  },
  {
   "cell_type": "code",
   "execution_count": 79,
   "metadata": {},
   "outputs": [
    {
     "name": "stdout",
     "output_type": "stream",
     "text": [
      "1080\n",
      "720\n"
     ]
    }
   ],
   "source": [
    "dimensines = (1080, 720)\n",
    "print(dimensines[0])\n",
    "print(dimensines[1])"
   ]
  },
  {
   "cell_type": "code",
   "execution_count": 85,
   "metadata": {},
   "outputs": [
    {
     "name": "stdout",
     "output_type": "stream",
     "text": [
      "añadiendo indredientes a la orden: crema de chocolate\n",
      "añadiendo indredientes a la orden: chispas de chocolate\n",
      "añadiendo indredientes a la orden: nuez\n",
      "\n",
      " Tu cupcake esta listo!\n"
     ]
    }
   ],
   "source": [
    "##Cupcakes decoracion\n",
    "\n",
    "el_cliente_quiere = ['crema de chocolate', 'chispas de chocolate', 'nuez']\n",
    "for extra in el_cliente_quiere:\n",
    "  print(f'añadiendo indredientes a la orden: {extra}')\n",
    "\n",
    "print('\\n Tu cupcake esta listo!')"
   ]
  },
  {
   "cell_type": "code",
   "execution_count": 88,
   "metadata": {},
   "outputs": [
    {
     "name": "stdout",
     "output_type": "stream",
     "text": [
      "añadiendo indredientes a la orden: crema de chocolate\n",
      "añadiendo indredientes a la orden: chispas de chocolate\n",
      "Lo sentimos, no hay nuez disponible, puedes agregar almendras :)\n",
      "\n",
      " Tu cupcake esta listo!\n"
     ]
    }
   ],
   "source": [
    "##No hay un ingrediente disponible\n",
    "\n",
    "el_cliente_quiere = ['crema de chocolate', 'chispas de chocolate', 'nuez']\n",
    "for extra in el_cliente_quiere:\n",
    "  if extra == 'nuez':\n",
    "    print('Lo sentimos, no hay nuez disponible, puedes agregar almendras :)')\n",
    "  else:\n",
    "    print(f'añadiendo indredientes a la orden: {extra}')\n",
    "    \n",
    "print('\\n Tu cupcake esta listo!')"
   ]
  },
  {
   "cell_type": "code",
   "execution_count": 89,
   "metadata": {},
   "outputs": [
    {
     "name": "stdout",
     "output_type": "stream",
     "text": [
      "añadiendo indredientes a la orden: crema de chocolate\n",
      "añadiendo indredientes a la orden: chispas de chocolate\n",
      "Lo sentimos, no hay nuez disponible\n",
      "\n",
      " Tu cupcake esta listo!\n"
     ]
    }
   ],
   "source": [
    "#como saber que ingredientes si estan disponibles?\n",
    "extras_disponibles = ['chispas de chocolate', 'crema de chocolate', 'almendras', 'coco rallado', 'chocolate blanco', 'canela', 'ralladura de limon']\n",
    "el_cliente_quiere = ['crema de chocolate', 'chispas de chocolate', 'nuez']\n",
    "for extra in el_cliente_quiere:\n",
    "  if extra in extras_disponibles:\n",
    "    print(f'añadiendo indredientes a la orden: {extra}')\n",
    "  else:\n",
    "    print(f'Lo sentimos, no hay {extra} disponible')\n",
    "\n",
    "print('\\n Tu cupcake esta listo!')"
   ]
  }
 ],
 "metadata": {
  "kernelspec": {
   "display_name": "Python 3.10.4 64-bit",
   "language": "python",
   "name": "python3"
  },
  "language_info": {
   "codemirror_mode": {
    "name": "ipython",
    "version": 3
   },
   "file_extension": ".py",
   "mimetype": "text/x-python",
   "name": "python",
   "nbconvert_exporter": "python",
   "pygments_lexer": "ipython3",
   "version": "3.10.4"
  },
  "orig_nbformat": 4,
  "vscode": {
   "interpreter": {
    "hash": "c934ad8ff00039ded26fd08e840b97fcafe9269df61bad11e534ad449f4770e8"
   }
  }
 },
 "nbformat": 4,
 "nbformat_minor": 2
}
